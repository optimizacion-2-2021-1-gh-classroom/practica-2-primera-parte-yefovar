{
 "cells": [
  {
   "cell_type": "markdown",
   "metadata": {
    "tags": []
   },
   "source": [
    "# Implementación de Pipeline\n"
   ]
  },
  {
   "cell_type": "markdown",
   "metadata": {
    "tags": []
   },
   "source": [
    "https://core.ac.uk/download/pdf/234624411.pdf"
   ]
  },
  {
   "cell_type": "code",
   "execution_count": 2,
   "metadata": {
    "tags": [
     "block:import_params"
    ]
   },
   "outputs": [],
   "source": [
    "import numpy as np\n",
    "import pandas as pd\n",
    "from  Simplex import Simplex\n",
    "import kale"
   ]
  },
  {
   "cell_type": "markdown",
   "metadata": {
    "tags": []
   },
   "source": [
    "The data collected from KASMO Industry Limited (KIL) Osogbo, Nigeria on her main product line – medicated\n",
    "soap were analysed to determine the best sales package that would yield maximum profit to the company."
   ]
  },
  {
   "cell_type": "markdown",
   "metadata": {
    "tags": []
   },
   "source": [
    "The combinations of the quantities of  five basic raw materials (`\"Cuastic Soda\",\"Palm Kernel Oil\", \"Colourant\", \"Perfume\",\"Desinfectant\"`) for soap production per \n",
    "boiling (in litres) are presented in `quantity_held_for_production` and `quantity_used_per_boiling`"
   ]
  },
  {
   "cell_type": "markdown",
   "metadata": {
    "tags": []
   },
   "source": [
    "The company’s profit calculated by selling price per package  minus costs of soap as indexed by the four decision variables X1, X2, X3 and X4 are presented in `profit` and `selling_price`"
   ]
  },
  {
   "cell_type": "code",
   "execution_count": 111,
   "metadata": {
    "tags": [
     "block:"
    ]
   },
   "outputs": [],
   "source": [
    "### Raw Materials\n",
    "\n",
    "#materials = [\"Cuastic Soda\",\"Palm Kernel Oil\", \"Colourant\", \"Perfume\",\"Desinfectant\"]\n",
    "quantity_held_for_production = np.array([16820,40600,29,116,522])\n",
    "#quantity_used_per_boiling = np.array([290,700,0.5,2,9])\n",
    "\n",
    "### Soap Packages\n",
    "\n",
    "#soap_package = [\"x1\",\"x2\",\"x3\",\"x4\"]\n",
    "#selling_price = np.array([30,80,300,2900])\n",
    "#unit_selling_price = np.array([30,26.67,25,24.17])\n",
    "\n",
    "#profit = np.array([14.36,33.08,112.32,1023])\n",
    "profit = profit"
   ]
  },
  {
   "cell_type": "markdown",
   "metadata": {
    "tags": []
   },
   "source": [
    "Maximize the objective function (profits): \n",
    "\n",
    "Z = 14.36X1 + 33.08X2 + 112.32X3 + 1023.20X4"
   ]
  },
  {
   "cell_type": "code",
   "execution_count": 112,
   "metadata": {
    "tags": []
   },
   "outputs": [],
   "source": [
    "A=n.array([[0.88995,2.66984,10.79365,106.79365,1,0,0,0,0],\n",
    "           [2.14815,6.44444,25.77778,257.77778,0,1,0,0,0],\n",
    "           [0.00153,0.00460,0.01841,0.18413,0,0,1,0,0],\n",
    "           [0.00614,0.01841,0.07365,0.73651,0,0,0,1,0],\n",
    "           [0.02762,0.08286,0.33143,3.31429,0,0,0,1,0]\n",
    "          ])\n",
    "\n",
    "\n",
    "#=np.array([[0.88995,2.66984,10.79365,106.79365],\n",
    "#           [2.14815,6.44444,25.77778,257.77778],\n",
    "#           [0.00153,0.00460,0.01841,0.18413],\n",
    "#           [0.00614,0.01841,0.07365,0.73651],\n",
    "#           [0.02762,0.08286,0.33143,3.31429]\n",
    "#          ])\n",
    "\n",
    "\n",
    "b= quantity_held_for_production\n",
    "c= profit"
   ]
  },
  {
   "cell_type": "code",
   "execution_count": 3,
   "metadata": {
    "tags": []
   },
   "outputs": [],
   "source": [
    "c = np.array([3, 5])\n",
    "b = np.array([4, 12, 18])\n",
    "A = np.array([[1,  0],\n",
    "              [0,  2],\n",
    "              [3, 2]])"
   ]
  },
  {
   "cell_type": "code",
   "execution_count": 4,
   "metadata": {
    "tags": [
     "block:initializing_object",
     "prev:import_params"
    ]
   },
   "outputs": [],
   "source": [
    "model = Simplex(c,A,b,'Max')"
   ]
  },
  {
   "cell_type": "code",
   "execution_count": 5,
   "metadata": {
    "tags": [
     "block:solving_model",
     "prev:initializing_object"
    ]
   },
   "outputs": [
    {
     "data": {
      "text/plain": [
       "[2.0, 6.0]"
      ]
     },
     "execution_count": 5,
     "metadata": {},
     "output_type": "execute_result"
    }
   ],
   "source": [
    "model.solve()"
   ]
  }
 ],
 "metadata": {
  "kernelspec": {
   "display_name": "Python 3",
   "language": "python",
   "name": "python3"
  },
  "kubeflow_notebook": {
   "autosnapshot": false,
   "docker_image": "",
   "experiment": {
    "id": "1617649e-a817-487e-8b36-06a4e4268d0e",
    "name": "trial1"
   },
   "experiment_name": "trial1",
   "katib_metadata": {
    "algorithm": {
     "algorithmName": "grid"
    },
    "maxFailedTrialCount": 3,
    "maxTrialCount": 12,
    "objective": {
     "objectiveMetricName": "",
     "type": "minimize"
    },
    "parallelTrialCount": 3,
    "parameters": []
   },
   "katib_run": false,
   "pipeline_description": "Solving a linear programming maximization problem for profit maximization of a soap factory",
   "pipeline_name": "simplex-soap-profit-max",
   "snapshot_volumes": false,
   "steps_defaults": [],
   "volume_access_mode": "rwm",
   "volumes": []
  },
  "language_info": {
   "codemirror_mode": {
    "name": "ipython",
    "version": 3
   },
   "file_extension": ".py",
   "mimetype": "text/x-python",
   "name": "python",
   "nbconvert_exporter": "python",
   "pygments_lexer": "ipython3",
   "version": "3.6.9"
  }
 },
 "nbformat": 4,
 "nbformat_minor": 4
}
