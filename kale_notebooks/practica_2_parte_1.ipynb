{
 "cells": [
  {
   "cell_type": "code",
   "execution_count": 44,
   "metadata": {
    "tags": [
     "imports"
    ]
   },
   "outputs": [],
   "source": [
    "import pandas as pd\n",
    "import numpy as np\n",
    "import math\n",
    "from Simplex import Simplex\n"
   ]
  },
  {
   "cell_type": "code",
   "execution_count": 45,
   "metadata": {
    "tags": [
     "block:import_data"
    ]
   },
   "outputs": [],
   "source": [
    "#Load Data\n",
    "_1Q_2020 = pd.read_csv('../data/metro-bike-share-trips-2020-q1.csv')\n",
    "_3Q_2020 = pd.read_csv('../data/metro-trips-2020-q3.csv')\n",
    "_4Q_2020 = pd.read_csv('../data/metro-trips-2020-q4.csv')\n",
    "_1Q_2019 = pd.read_csv('../data/metro-bike-share-trips-2019-q4.csv')"
   ]
  },
  {
   "cell_type": "code",
   "execution_count": 46,
   "metadata": {
    "tags": [
     "functions"
    ]
   },
   "outputs": [],
   "source": [
    "def label_charged(duration):\n",
    "    \"\"\"\"Function to create a new catergorical variable that indicate if theres has to be an adittional charge\"\"\"\n",
    "    if duration <= 30:\n",
    "        return 0\n",
    "    else:\n",
    "        return 1\n",
    "    \n",
    "def cambiar_minusculas_variable(archivo,variable):\n",
    "    archivo[variable]=archivo[variable].str.lower()"
   ]
  },
  {
   "cell_type": "code",
   "execution_count": 47,
   "metadata": {
    "tags": [
     "block:concatenate_data",
     "prev:import_data"
    ]
   },
   "outputs": [],
   "source": [
    "#Concatenate the 4 datasets\n",
    "data = pd.concat([_1Q_2020,_3Q_2020,_4Q_2020,_1Q_2019])"
   ]
  },
  {
   "cell_type": "code",
   "execution_count": 48,
   "metadata": {
    "tags": [
     "block:cleaning_data",
     "prev:concatenate_data"
    ]
   },
   "outputs": [],
   "source": [
    "# Change to lower categorical variables\n",
    "cambiar_minusculas_variable(data,'trip_route_category')\n",
    "cambiar_minusculas_variable(data,'passholder_type')\n",
    "cambiar_minusculas_variable(data,'bike_type')\n"
   ]
  },
  {
   "cell_type": "code",
   "execution_count": 49,
   "metadata": {
    "tags": []
   },
   "outputs": [],
   "source": [
    "data['start_time'] = pd.to_datetime(data['start_time'])\n",
    "data['end_time'] = pd.to_datetime(data['end_time'])"
   ]
  },
  {
   "cell_type": "code",
   "execution_count": 50,
   "metadata": {
    "tags": []
   },
   "outputs": [],
   "source": [
    "data = data.drop(data[data['passholder_type']==\"testing\"].index)"
   ]
  },
  {
   "cell_type": "code",
   "execution_count": 51,
   "metadata": {
    "tags": []
   },
   "outputs": [],
   "source": [
    "data = data[data['passholder_type'].notna()]"
   ]
  },
  {
   "cell_type": "code",
   "execution_count": 52,
   "metadata": {
    "tags": []
   },
   "outputs": [],
   "source": [
    "data['charged_ride'] = data['duration'].apply(label_charged)"
   ]
  },
  {
   "cell_type": "code",
   "execution_count": 53,
   "metadata": {
    "tags": []
   },
   "outputs": [],
   "source": [
    "# Column for hour of day of ride.\n",
    "data['start_hour'] = data['start_time'].dt.hour\n"
   ]
  },
  {
   "cell_type": "code",
   "execution_count": 54,
   "metadata": {
    "tags": []
   },
   "outputs": [],
   "source": [
    "bike_last_used_id = bike_last_used = data.groupby('bike_id')['end_time'].max().keys().tolist()\n",
    "bike_last_used_date = data.groupby('bike_id')['end_time'].max().tolist()"
   ]
  },
  {
   "cell_type": "code",
   "execution_count": 55,
   "metadata": {
    "tags": []
   },
   "outputs": [],
   "source": [
    "latest_ride_date = data['end_time'].max()\n",
    "# Create feature indicating active bikes, used in past 6 months. 1 if active, 0 if inactive.\n",
    "inactive_ids = [record[0] for record in list(zip(bike_last_used_id,bike_last_used_date)) if \n",
    "                record[1] < latest_ride_date + np.timedelta64(-6, 'M') ]\n",
    "data['active_6m'] = data['bike_id'].apply(lambda bike_id: 0 if bike_id in (inactive_ids) else 1)"
   ]
  },
  {
   "cell_type": "code",
   "execution_count": 56,
   "metadata": {
    "tags": []
   },
   "outputs": [],
   "source": [
    "#Select variables to modeling\n",
    "data = data [[\"trip_id\", \"duration\",\"start_time\", \"end_time\", \"trip_route_category\", \"passholder_type\"]]"
   ]
  },
  {
   "cell_type": "code",
   "execution_count": 57,
   "metadata": {
    "tags": []
   },
   "outputs": [],
   "source": [
    "\n",
    "data = data.reset_index()"
   ]
  },
  {
   "cell_type": "code",
   "execution_count": 58,
   "metadata": {
    "tags": []
   },
   "outputs": [
    {
     "data": {
      "text/html": [
       "<div>\n",
       "<style scoped>\n",
       "    .dataframe tbody tr th:only-of-type {\n",
       "        vertical-align: middle;\n",
       "    }\n",
       "\n",
       "    .dataframe tbody tr th {\n",
       "        vertical-align: top;\n",
       "    }\n",
       "\n",
       "    .dataframe thead th {\n",
       "        text-align: right;\n",
       "    }\n",
       "</style>\n",
       "<table border=\"1\" class=\"dataframe\">\n",
       "  <thead>\n",
       "    <tr style=\"text-align: right;\">\n",
       "      <th></th>\n",
       "      <th>index</th>\n",
       "      <th>trip_id</th>\n",
       "      <th>duration</th>\n",
       "      <th>start_time</th>\n",
       "      <th>end_time</th>\n",
       "      <th>trip_route_category</th>\n",
       "      <th>passholder_type</th>\n",
       "    </tr>\n",
       "  </thead>\n",
       "  <tbody>\n",
       "    <tr>\n",
       "      <th>0</th>\n",
       "      <td>0</td>\n",
       "      <td>134867493</td>\n",
       "      <td>25</td>\n",
       "      <td>2020-01-01 00:16:00</td>\n",
       "      <td>2020-01-01 00:41:00</td>\n",
       "      <td>one way</td>\n",
       "      <td>monthly pass</td>\n",
       "    </tr>\n",
       "    <tr>\n",
       "      <th>1</th>\n",
       "      <td>1</td>\n",
       "      <td>134867799</td>\n",
       "      <td>35</td>\n",
       "      <td>2020-01-01 00:24:00</td>\n",
       "      <td>2020-01-01 00:59:00</td>\n",
       "      <td>one way</td>\n",
       "      <td>one day pass</td>\n",
       "    </tr>\n",
       "    <tr>\n",
       "      <th>2</th>\n",
       "      <td>2</td>\n",
       "      <td>134868104</td>\n",
       "      <td>37</td>\n",
       "      <td>2020-01-01 00:31:00</td>\n",
       "      <td>2020-01-01 01:08:00</td>\n",
       "      <td>one way</td>\n",
       "      <td>walk-up</td>\n",
       "    </tr>\n",
       "    <tr>\n",
       "      <th>3</th>\n",
       "      <td>3</td>\n",
       "      <td>134868103</td>\n",
       "      <td>36</td>\n",
       "      <td>2020-01-01 00:32:00</td>\n",
       "      <td>2020-01-01 01:08:00</td>\n",
       "      <td>one way</td>\n",
       "      <td>walk-up</td>\n",
       "    </tr>\n",
       "    <tr>\n",
       "      <th>4</th>\n",
       "      <td>4</td>\n",
       "      <td>134868102</td>\n",
       "      <td>35</td>\n",
       "      <td>2020-01-01 00:33:00</td>\n",
       "      <td>2020-01-01 01:08:00</td>\n",
       "      <td>one way</td>\n",
       "      <td>walk-up</td>\n",
       "    </tr>\n",
       "    <tr>\n",
       "      <th>...</th>\n",
       "      <td>...</td>\n",
       "      <td>...</td>\n",
       "      <td>...</td>\n",
       "      <td>...</td>\n",
       "      <td>...</td>\n",
       "      <td>...</td>\n",
       "      <td>...</td>\n",
       "    </tr>\n",
       "    <tr>\n",
       "      <th>227232</th>\n",
       "      <td>76310</td>\n",
       "      <td>134982544</td>\n",
       "      <td>1440</td>\n",
       "      <td>2019-12-31 23:35:51</td>\n",
       "      <td>2020-01-02 17:13:50</td>\n",
       "      <td>round trip</td>\n",
       "      <td>monthly pass</td>\n",
       "    </tr>\n",
       "    <tr>\n",
       "      <th>227233</th>\n",
       "      <td>76311</td>\n",
       "      <td>134866394</td>\n",
       "      <td>9</td>\n",
       "      <td>2019-12-31 23:41:52</td>\n",
       "      <td>2019-12-31 23:50:58</td>\n",
       "      <td>one way</td>\n",
       "      <td>monthly pass</td>\n",
       "    </tr>\n",
       "    <tr>\n",
       "      <th>227234</th>\n",
       "      <td>76312</td>\n",
       "      <td>134866292</td>\n",
       "      <td>4</td>\n",
       "      <td>2019-12-31 23:43:19</td>\n",
       "      <td>2019-12-31 23:47:41</td>\n",
       "      <td>one way</td>\n",
       "      <td>annual pass</td>\n",
       "    </tr>\n",
       "    <tr>\n",
       "      <th>227235</th>\n",
       "      <td>76313</td>\n",
       "      <td>134866392</td>\n",
       "      <td>5</td>\n",
       "      <td>2019-12-31 23:48:17</td>\n",
       "      <td>2019-12-31 23:53:55</td>\n",
       "      <td>one way</td>\n",
       "      <td>annual pass</td>\n",
       "    </tr>\n",
       "    <tr>\n",
       "      <th>227236</th>\n",
       "      <td>76314</td>\n",
       "      <td>134867192</td>\n",
       "      <td>27</td>\n",
       "      <td>2019-12-31 23:58:52</td>\n",
       "      <td>2020-01-01 00:25:27</td>\n",
       "      <td>one way</td>\n",
       "      <td>annual pass</td>\n",
       "    </tr>\n",
       "  </tbody>\n",
       "</table>\n",
       "<p>227237 rows × 7 columns</p>\n",
       "</div>"
      ],
      "text/plain": [
       "        index    trip_id  duration          start_time            end_time  \\\n",
       "0           0  134867493        25 2020-01-01 00:16:00 2020-01-01 00:41:00   \n",
       "1           1  134867799        35 2020-01-01 00:24:00 2020-01-01 00:59:00   \n",
       "2           2  134868104        37 2020-01-01 00:31:00 2020-01-01 01:08:00   \n",
       "3           3  134868103        36 2020-01-01 00:32:00 2020-01-01 01:08:00   \n",
       "4           4  134868102        35 2020-01-01 00:33:00 2020-01-01 01:08:00   \n",
       "...       ...        ...       ...                 ...                 ...   \n",
       "227232  76310  134982544      1440 2019-12-31 23:35:51 2020-01-02 17:13:50   \n",
       "227233  76311  134866394         9 2019-12-31 23:41:52 2019-12-31 23:50:58   \n",
       "227234  76312  134866292         4 2019-12-31 23:43:19 2019-12-31 23:47:41   \n",
       "227235  76313  134866392         5 2019-12-31 23:48:17 2019-12-31 23:53:55   \n",
       "227236  76314  134867192        27 2019-12-31 23:58:52 2020-01-01 00:25:27   \n",
       "\n",
       "       trip_route_category passholder_type  \n",
       "0                  one way    monthly pass  \n",
       "1                  one way    one day pass  \n",
       "2                  one way         walk-up  \n",
       "3                  one way         walk-up  \n",
       "4                  one way         walk-up  \n",
       "...                    ...             ...  \n",
       "227232          round trip    monthly pass  \n",
       "227233             one way    monthly pass  \n",
       "227234             one way     annual pass  \n",
       "227235             one way     annual pass  \n",
       "227236             one way     annual pass  \n",
       "\n",
       "[227237 rows x 7 columns]"
      ]
     },
     "execution_count": 58,
     "metadata": {},
     "output_type": "execute_result"
    }
   ],
   "source": [
    "data"
   ]
  },
  {
   "cell_type": "code",
   "execution_count": 59,
   "metadata": {
    "tags": [
     "block:feature_engineering",
     "prev:cleaning_data"
    ]
   },
   "outputs": [],
   "source": [
    "# Create dummy variables for passholder type.\n",
    "one_hot_pass = pd.get_dummies(data['passholder_type']).rename(columns={\n",
    "    'annual pass' : 'annual',\n",
    "    'monthly pass' : 'monthly',\n",
    "    'one day pass' : 'one_day',\n",
    "    'walk-up' : 'walk_up'\n",
    "})\n",
    "\n",
    "# Create dummy variables for trip route category.\n",
    "one_hot_trip_type = pd.get_dummies(data['trip_route_category']).rename(columns = {\n",
    "    'one way' : 'one_way',\n",
    "    'round trip' : 'round_trip'\n",
    "})\n",
    "\n",
    "data = data.join([one_hot_pass, one_hot_trip_type])"
   ]
  },
  {
   "cell_type": "code",
   "execution_count": 60,
   "metadata": {
    "tags": []
   },
   "outputs": [],
   "source": [
    "# Creates feature for 30 minute blocks that walk-up users have to pay for.\n",
    "# Creates another feature for 30 minute blocks for passholders that exclude first 30 minute block.\n",
    "data['time_block_count'] = data['duration'].apply(lambda duration: math.ceil(duration/30))\n",
    "data['time_block_count_post_free'] = data['duration'].apply(lambda duration: \\\n",
    "                                                                        math.ceil(duration/30)) - 1"
   ]
  },
  {
   "cell_type": "code",
   "execution_count": 61,
   "metadata": {
    "tags": []
   },
   "outputs": [],
   "source": [
    "pass_groups = data.groupby('passholder_type')\n",
    "pass_groups.groups.keys()\n",
    "\n",
    "agg_pass_groups = pass_groups.agg({\n",
    "    'trip_id' : 'count',\n",
    "    'walk_up' : 'sum',\n",
    "    'time_block_count' : 'sum',\n",
    "    'time_block_count_post_free' : 'sum',\n",
    "    'duration' : 'sum'\n",
    "}).rename(columns = {\n",
    "    'trip_id' : 'total_trips',\n",
    "    'walk_up' : 'pay_count_walk_up',\n",
    "    'time_block_count' : 'total_30min_blocks',\n",
    "    'time_block_count_post_free' : 'total_30min_blocks_post_free',\n",
    "    'duration' : 'total_minutes'\n",
    "}).reset_index()\n",
    "\n",
    "agg_pass_groups['passholder_type'] = ['annual','monthly','daily','walk_up']\n",
    "agg_pass_groups.index = agg_pass_groups['passholder_type']\n",
    "agg_pass_groups = agg_pass_groups.drop('passholder_type',1)"
   ]
  },
  {
   "cell_type": "code",
   "execution_count": 62,
   "metadata": {
    "tags": []
   },
   "outputs": [],
   "source": [
    "# Passes sold = Total rides / Rides to break even\n",
    "price_wo_pass = 3.5\n",
    "price_w_pass_day = 0\n",
    "price_w_pass_month = 0\n",
    "price_w_pass_annual = 1.75\n",
    "\n",
    "# Average difference between passholders and walk-up riders across previous and current pricing.\n",
    "# This is represented by the difference in prices per 30 minute block since pass holders get the first 30 minutes free.\n",
    "# As current data is from before the price change, previous prices are used to estimate number of passes.\n",
    "\n",
    "day_diff = price_wo_pass - price_w_pass_day\n",
    "month_diff = price_wo_pass - price_w_pass_month\n",
    "annual_diff = price_wo_pass - price_w_pass_annual\n",
    "\n",
    "# Prices of passes.\n",
    "\n",
    "day_pass_price = 7\n",
    "month_pass_price = 20\n",
    "annual_pass_price = 40\n",
    "\n",
    "# Estimated rides required for breakeven.\n",
    "\n",
    "rides_day_pass_estimate = day_pass_price / day_diff\n",
    "rides_month_pass_estimate = month_pass_price / month_diff\n",
    "rides_annual_pass_estimate = annual_pass_price / annual_diff\n"
   ]
  },
  {
   "cell_type": "code",
   "execution_count": 63,
   "metadata": {
    "tags": []
   },
   "outputs": [],
   "source": [
    "#Para estimaciones conservadoras, escalamos las tres estimaciones por un factor común del 40%.\n",
    "rides_day_pass_estimate *= 1.4\n",
    "rides_month_pass_estimate *= 1.4\n",
    "rides_annual_pass_estimate *= 1.4"
   ]
  },
  {
   "cell_type": "code",
   "execution_count": 64,
   "metadata": {
    "tags": []
   },
   "outputs": [],
   "source": [
    "# of passholders.\n",
    "\n",
    "passes_sold_day = math.ceil(agg_pass_groups.loc['daily','total_trips']/rides_day_pass_estimate)\n",
    "passes_sold_month = math.ceil(agg_pass_groups.loc['monthly','total_trips']/rides_month_pass_estimate)\n",
    "passes_sold_annual = math.ceil(agg_pass_groups.loc['annual','total_trips']/rides_annual_pass_estimate)\n",
    "passes_sold_total = passes_sold_day + passes_sold_month + passes_sold_annual\n",
    "\n",
    "agg_pass_groups['passes_sold'] = [passes_sold_annual, passes_sold_month, passes_sold_day, 0]\n"
   ]
  },
  {
   "cell_type": "code",
   "execution_count": 65,
   "metadata": {
    "tags": []
   },
   "outputs": [],
   "source": [
    "agg_pass_groups['previous_pass_prices'] = [40, 20, 7, 0]\n",
    "agg_pass_groups['new_pass_prices'] = [40,17, 5, 0]\n",
    "agg_pass_groups['average_charged_blocks_per_ride'] = agg_pass_groups['total_30min_blocks_post_free'] / agg_pass_groups['total_trips']\n",
    "agg_pass_groups['percent_total_trips'] = agg_pass_groups['total_trips']/sum(agg_pass_groups['total_trips'])"
   ]
  },
  {
   "cell_type": "code",
   "execution_count": 66,
   "metadata": {
    "tags": []
   },
   "outputs": [],
   "source": [
    "current_tot_rev = (sum(3.5 * agg_pass_groups['pay_count_walk_up']) \n",
    "                   + sum(1.75 * agg_pass_groups['total_30min_blocks_post_free'])\n",
    "                   + 1.75 * (agg_pass_groups['total_30min_blocks'] ['annual']\n",
    "                                            - agg_pass_groups['total_30min_blocks_post_free']['annual'])\n",
    "                   + sum(agg_pass_groups['passes_sold'] * agg_pass_groups['previous_pass_prices']))"
   ]
  },
  {
   "cell_type": "code",
   "execution_count": 67,
   "metadata": {
    "tags": [
     "block:feature_engineering_2",
     "prev:feature_engineering"
    ]
   },
   "outputs": [],
   "source": [
    "\n",
    "#Se declaran los precios\n",
    "previous_walk_up = 3.5\n",
    "previous_pass = 1.75\n",
    "# Revenue for walk ups\n"
   ]
  },
  {
   "cell_type": "code",
   "execution_count": 68,
   "metadata": {
    "tags": [
     "block:matrix_definition",
     "prev:feature_engineering_2"
    ]
   },
   "outputs": [],
   "source": [
    "lhs_eq = [[0, 1, 1, 0, 0, 0, 0],\n",
    "          [0, 0, 0, 1, 1, 0, 0],\n",
    "          [0, 0, 0, 0, 0, 1, 1]]\n",
    "rhs_eq = [1, 1, 1]\n",
    "\n",
    "walk_up_rev_block = previous_walk_up * agg_pass_groups.loc['walk_up','total_30min_blocks']\n",
    "\n",
    "# Revenue for pass sales.\n",
    "trip_rev_day_pass = agg_pass_groups.loc['daily', 'total_30min_blocks_post_free'] * previous_pass\n",
    "trip_rev_month_pass = agg_pass_groups.loc['monthly', 'total_30min_blocks_post_free'] * previous_pass\n",
    "trip_rev_annual_pass = agg_pass_groups.loc['annual', 'total_30min_blocks'] * previous_pass\n",
    "\n",
    "# Revenue for pass sales is pass is cancelled.\n",
    "trip_rev_day_no_pass = agg_pass_groups.loc['daily', 'total_30min_blocks'] * previous_walk_up * 0.7\n",
    "trip_rev_month_no_pass = agg_pass_groups.loc['monthly', 'total_30min_blocks'] * previous_walk_up * 0.7\n",
    "trip_rev_annual_no_pass = agg_pass_groups.loc['annual', 'total_30min_blocks'] * previous_walk_up * 0.7\n",
    "\n",
    "# Revenue for sales of passes.\n",
    "pass_sales_rev_day = (agg_pass_groups.loc['daily','previous_pass_prices'] \n",
    "                      * agg_pass_groups.loc['daily','passes_sold'])\n",
    "pass_sales_rev_month = (agg_pass_groups.loc['monthly','previous_pass_prices'] \n",
    "                        * agg_pass_groups.loc['monthly','passes_sold'])\n",
    "pass_sales_rev_annual = (agg_pass_groups.loc['annual','previous_pass_prices'] \n",
    "                         * agg_pass_groups.loc['annual','passes_sold'])\n",
    "\n",
    "obj_1 = [-walk_up_rev_block, -(trip_rev_day_pass + pass_sales_rev_day), trip_rev_day_no_pass, -(trip_rev_month_pass + pass_sales_rev_month), -trip_rev_month_no_pass, -(trip_rev_annual_pass + pass_sales_rev_annual), -trip_rev_annual_no_pass]"
   ]
  },
  {
   "cell_type": "code",
   "execution_count": 69,
   "metadata": {
    "tags": []
   },
   "outputs": [],
   "source": [
    "c = np.array(obj_1)\n",
    "A =  np.array(lhs_eq)\n",
    "b =  np.array(rhs_eq)"
   ]
  },
  {
   "cell_type": "code",
   "execution_count": 70,
   "metadata": {
    "tags": []
   },
   "outputs": [
    {
     "name": "stdout",
     "output_type": "stream",
     "text": [
      "[[0 1 1 0 0 0 0]\n",
      " [0 0 0 1 1 0 0]\n",
      " [0 0 0 0 0 1 1]]\n",
      "[1 1 1]\n",
      "[-393620.5  -125952.75 -157378.2  -422192.75 -441465.5   -79897.75\n",
      "  -69856.85]\n"
     ]
    }
   ],
   "source": [
    "print(A)\n",
    "print(b)\n",
    "print(c)"
   ]
  },
  {
   "cell_type": "code",
   "execution_count": 73,
   "metadata": {
    "tags": [
     "block:model_definition",
     "prev:matrix_definition"
    ]
   },
   "outputs": [],
   "source": [
    "model = Simplex(c,A,b,\"Max\")"
   ]
  },
  {
   "cell_type": "code",
   "execution_count": 74,
   "metadata": {
    "tags": [
     "block:model_solver",
     "prev:model_definition"
    ]
   },
   "outputs": [
    {
     "data": {
      "text/plain": [
       "[0, 0, 0, 0, 0, 0, 0]"
      ]
     },
     "execution_count": 74,
     "metadata": {},
     "output_type": "execute_result"
    }
   ],
   "source": [
    "model.solve()"
   ]
  }
 ],
 "metadata": {
  "kernelspec": {
   "display_name": "Python 3",
   "language": "python",
   "name": "python3"
  },
  "kubeflow_notebook": {
   "autosnapshot": false,
   "docker_image": "ferubio/pkg_optim_kale:0.1",
   "experiment": {
    "id": "new",
    "name": "simplex-trial"
   },
   "experiment_name": "simplex-trial",
   "katib_metadata": {
    "algorithm": {
     "algorithmName": "grid"
    },
    "maxFailedTrialCount": 3,
    "maxTrialCount": 12,
    "objective": {
     "objectiveMetricName": "",
     "type": "minimize"
    },
    "parallelTrialCount": 3,
    "parameters": []
   },
   "katib_run": false,
   "pipeline_description": "Solves a business problem using simplex algorithm ",
   "pipeline_name": "la-bikes-simplex",
   "snapshot_volumes": false,
   "steps_defaults": [],
   "volume_access_mode": "rwm",
   "volumes": [
    {
     "annotations": [],
     "mount_point": "/shared_volume",
     "name": "hostpath-pvc",
     "size": 1,
     "size_type": "Gi",
     "snapshot": false,
     "snapshot_name": "",
     "type": "pvc"
    }
   ]
  },
  "language_info": {
   "codemirror_mode": {
    "name": "ipython",
    "version": 3
   },
   "file_extension": ".py",
   "mimetype": "text/x-python",
   "name": "python",
   "nbconvert_exporter": "python",
   "pygments_lexer": "ipython3",
   "version": "3.6.9"
  }
 },
 "nbformat": 4,
 "nbformat_minor": 4
}
