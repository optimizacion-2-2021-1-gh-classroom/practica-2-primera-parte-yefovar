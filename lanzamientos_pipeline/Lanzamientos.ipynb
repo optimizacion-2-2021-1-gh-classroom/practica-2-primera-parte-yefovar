{
 "cells": [
  {
   "cell_type": "markdown",
   "metadata": {
    "tags": []
   },
   "source": [
    "## Historia de lanzamientos en KALE"
   ]
  },
  {
   "cell_type": "markdown",
   "metadata": {
    "tags": []
   },
   "source": [
    "#### Prueba de primeros ejemplos implementados\n",
    "\n",
    "Al realizar el pipeline decidimos probar como primera instancia los ejemplos que teníamos en la práctica 1 (segunda parte) para tener un mejor conocimiento de la herramienta kale. El primer lanzamiento fue un caso de minimizacion en forma matricial.\n",
    "\n",
    "**Lanzamiento 1 : Prueba Kale**"
   ]
  },
  {
   "cell_type": "markdown",
   "metadata": {
    "tags": []
   },
   "source": [
    "De acuerdo a la imagen de abajo se muestra que para este primer lanzamiento decidimos realizar 4 *pipelines steps* :  \n",
    "\n",
    "1)  import packages - No tiene dependencia alguna <br>\n",
    "2)  matrix_defintion_a, matrix_definition_c y matrix_definition_b - Dependen de la tarea 1 (import packages) <br>\n",
    "3) defining_problem - Depende de la tarea 2<br>\n",
    "4) solving_problem - Requiere la realización del paso 3 (defining_problem)<br>"
   ]
  },
  {
   "cell_type": "code",
   "execution_count": null,
   "metadata": {},
   "outputs": [],
   "source": [
    "#Imagen 1\n",
    "#Imagen 2"
   ]
  },
  {
   "cell_type": "markdown",
   "metadata": {
    "tags": []
   },
   "source": [
    "Se puede observar en la 2da imagen que todas las tareas fueron realizadas correctamente."
   ]
  },
  {
   "cell_type": "markdown",
   "metadata": {
    "tags": []
   },
   "source": [
    "**Lanzamiento 2 : Debugg algorithm**"
   ]
  },
  {
   "cell_type": "markdown",
   "metadata": {
    "tags": []
   },
   "source": [
    "En este segundo lanzamiento se probó la efectividad del método al ajustar los tipos de variable de entrada. Las entradas que podía recibir el algoritmo era con definición de matrices y vectores tipo numpy, pero nos dimos cuenta que el usuario final es probable que desee estableces las entradas únicamente como listas, siguiendo la misma línea que otros algoritmos ya implementados en python.\n",
    "\n",
    "El pipeline que se utilizó para este lanzamiento tiene las misma estructura que el del lanzamiento 1, únicamente se cambiaron los parámetros de entrada de la siguiente manera:"
   ]
  },
  {
   "cell_type": "code",
   "execution_count": null,
   "metadata": {
    "tags": []
   },
   "outputs": [],
   "source": [
    "c = [1,1,-4]\n",
    "\n",
    "A = [[1,1,2],\n",
    "    [1,1,-1],\n",
    "    [-1,1,1]]\n",
    "\n",
    "b= [9,2,4]\n",
    "\n",
    "problema = Simplex(c,A,b,problem='Min')\n",
    "x_result = problema.solve()\n",
    "x_result"
   ]
  },
  {
   "cell_type": "code",
   "execution_count": null,
   "metadata": {},
   "outputs": [],
   "source": [
    "#Imagen 1\n",
    "#Imagen 2"
   ]
  },
  {
   "cell_type": "markdown",
   "metadata": {
    "tags": []
   },
   "source": [
    "Como se observa en la imágenes anteriiores el problema que encontramos es que únicamente el algoritimo recibia numpy arrays, por lo que modificamos internamente ese problema en el constructor de la clase, esto fue reimplementado en el repositorio anterior en la carpeta : scr"
   ]
  },
  {
   "cell_type": "code",
   "execution_count": null,
   "metadata": {},
   "outputs": [],
   "source": [
    "#DEVELOP "
   ]
  },
  {
   "cell_type": "markdown",
   "metadata": {
    "tags": []
   },
   "source": [
    "**Lanzamiento 3 : Mejoras al paquete**\n",
    "\n",
    "Por otra parte, nos dimos cuenta que nuestro paquete únicamente imprimia el valor de las variables que se optimizaron (es decir es vector x), por lo cual consideramos que era necesario también presentar a los usuarios del paquete la siguiente información : el valor de la función optima y un estatus de la optimización realizada.\n",
    "\n",
    "Por lo cual, realizamos un lanzamiento en donde se deseara obtener información del valor óptimo de la función y fracasó dicha implementación. De igual forma, la definición del pipeline fue la misma que en el primer lanzamiento, solo se hizo un cambios de parámetros que son los siguientes:"
   ]
  },
  {
   "cell_type": "code",
   "execution_count": null,
   "metadata": {},
   "outputs": [],
   "source": []
  },
  {
   "cell_type": "code",
   "execution_count": null,
   "metadata": {},
   "outputs": [],
   "source": []
  },
  {
   "cell_type": "code",
   "execution_count": null,
   "metadata": {},
   "outputs": [],
   "source": []
  },
  {
   "cell_type": "code",
   "execution_count": null,
   "metadata": {},
   "outputs": [],
   "source": []
  }
 ],
 "metadata": {
  "kernelspec": {
   "display_name": "Python 3",
   "language": "python",
   "name": "python3"
  },
  "kubeflow_notebook": {
   "autosnapshot": false,
   "docker_image": "ferubio/pkg_optim_kale:0.1",
   "experiment": {
    "id": "new",
    "name": "testingkale"
   },
   "experiment_name": "testingkale",
   "katib_metadata": {
    "algorithm": {
     "algorithmName": "grid"
    },
    "maxFailedTrialCount": 3,
    "maxTrialCount": 12,
    "objective": {
     "objectiveMetricName": "",
     "type": "minimize"
    },
    "parallelTrialCount": 3,
    "parameters": []
   },
   "katib_run": false,
   "pipeline_description": "this pipeline is for testing kale infrastructure",
   "pipeline_name": "testkale",
   "snapshot_volumes": false,
   "steps_defaults": [],
   "volume_access_mode": "rwm",
   "volumes": [
    {
     "annotations": [],
     "mount_point": "",
     "name": "",
     "size": 1,
     "size_type": "Gi",
     "snapshot": false,
     "snapshot_name": "",
     "type": "new_pvc"
    }
   ]
  },
  "language_info": {
   "codemirror_mode": {
    "name": "ipython",
    "version": 3
   },
   "file_extension": ".py",
   "mimetype": "text/x-python",
   "name": "python",
   "nbconvert_exporter": "python",
   "pygments_lexer": "ipython3",
   "version": "3.6.9"
  }
 },
 "nbformat": 4,
 "nbformat_minor": 4
}
